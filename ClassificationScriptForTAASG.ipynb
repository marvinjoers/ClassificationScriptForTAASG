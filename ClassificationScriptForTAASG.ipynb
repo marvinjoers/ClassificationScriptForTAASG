{
 "cells": [
  {
   "cell_type": "code",
   "execution_count": null,
   "id": "3ceca3db",
   "metadata": {},
   "outputs": [],
   "source": [
    "import numpy as np\n",
    "from numpy import mean\n",
    "from numpy import isnan\n",
    "from numpy import asarray\n",
    "from numpy import polyfit\n",
    "from numpy import loadtxt\n",
    "from scipy.stats import pearsonr\n",
    "from sklearn.dummy import DummyClassifier\n",
    "from matplotlib import pyplot\n",
    "from sklearn.datasets import make_classification\n",
    "from sklearn.model_selection import KFold\n",
    "from sklearn.model_selection import LeaveOneOut\n",
    "from sklearn.model_selection import cross_val_score\n",
    "from sklearn.model_selection import cross_validate\n",
    "from sklearn.linear_model import LogisticRegression\n",
    "from sklearn.linear_model import RidgeClassifier\n",
    "from sklearn.linear_model import SGDClassifier\n",
    "from sklearn.linear_model import PassiveAggressiveClassifier\n",
    "from sklearn.neural_network import MLPClassifier\n",
    "from sklearn.neighbors import KNeighborsClassifier\n",
    "from sklearn.tree import DecisionTreeClassifier\n",
    "from sklearn.tree import ExtraTreeClassifier\n",
    "from sklearn.svm import LinearSVC\n",
    "from sklearn.svm import SVC\n",
    "from sklearn.naive_bayes import GaussianNB\n",
    "from sklearn.ensemble import AdaBoostClassifier\n",
    "from sklearn.ensemble import BaggingClassifier\n",
    "from sklearn.ensemble import RandomForestClassifier\n",
    "from sklearn.ensemble import ExtraTreesClassifier\n",
    "from sklearn.gaussian_process import GaussianProcessClassifier\n",
    "from sklearn.ensemble import GradientBoostingClassifier\n",
    "from sklearn.discriminant_analysis import LinearDiscriminantAnalysis\n",
    "from sklearn.discriminant_analysis import QuadraticDiscriminantAnalysis\n",
    "from sklearn.preprocessing import LabelEncoder\n",
    "import xgboost as xgb\n",
    "from sklearn.metrics import make_scorer, accuracy_score, precision_score, recall_score, f1_score"
   ]
  },
  {
   "cell_type": "code",
   "execution_count": null,
   "id": "10b792ab",
   "metadata": {},
   "outputs": [],
   "source": [
    "DATASET = loadtxt('dataset.csv', delimiter=\",\")"
   ]
  },
  {
   "cell_type": "code",
   "execution_count": null,
   "id": "d6254e0d",
   "metadata": {},
   "outputs": [],
   "source": [
    "NUMBER_OF_PARAMETER = \"INSERT_HERE\"\n",
    "X = DATASET[:,0:NUMBER_OF_PARAMETER]\n",
    "Y = DATASET[:,NUMBER_OF_PARAMETER]"
   ]
  },
  {
   "cell_type": "code",
   "execution_count": null,
   "id": "b9f45557",
   "metadata": {},
   "outputs": [],
   "source": [
    "def import_models():\n",
    "\tmodels = list()\n",
    "\tmodels.append(DummyClassifier(strategy=\"most_frequent\"))\n",
    "\tmodels.append(DummyClassifier(strategy=\"stratified\"))\n",
    "\tmodels.append(xgb.XGBClassifier())\n",
    "\tmodels.append(LogisticRegression())\n",
    "\tmodels.append(KNeighborsClassifier())\n",
    "\tmodels.append(DecisionTreeClassifier())\n",
    "\tmodels.append(SVC())\n",
    "\tmodels.append(AdaBoostClassifier())\n",
    "\tmodels.append(RandomForestClassifier())\n",
    "\tmodels.append(GradientBoostingClassifier())\n",
    "\tmodels.append(MLPClassifier()) \n",
    "\treturn models"
   ]
  },
  {
   "cell_type": "code",
   "execution_count": null,
   "id": "a8130882",
   "metadata": {},
   "outputs": [],
   "source": [
    "def evaluate_model(cv, model):\n",
    "    \n",
    "    model_accuracy = 0\n",
    "            \n",
    "    scoring = {'accuracy' : make_scorer(accuracy_score), \n",
    "           'precision' : make_scorer(precision_score, average='weighted', zero_division=0),\n",
    "           'recall' : make_scorer(recall_score, average='weighted', zero_division=0), \n",
    "           'f1_score' : make_scorer(f1_score, average='weighted', zero_division=0)}\n",
    "    \n",
    "    if \"XGB\" in str(model):\n",
    "        le = LabelEncoder()\n",
    "        Y_transformed = le.fit_transform(Y)\n",
    "        scores = cross_validate(model, X, Y_transformed, scoring=scoring, cv=cv, n_jobs=2)\n",
    "\n",
    "    else:\n",
    "        scores = cross_validate(model, X, Y, scoring=scoring, cv=cv, n_jobs=2)\n",
    "         \n",
    "    for k,v in scores.items():\n",
    "        \n",
    "        if k == \"test_accuracy\":\n",
    "            print('accuracy=%.3f' % (mean(v)))\n",
    "            model_accuracy = mean(v)\n",
    "            \n",
    "        if k == \"test_precision\":\n",
    "            print('precision=%.3f' % (mean(v)))\n",
    "            \n",
    "        if k == \"test_recall\":\n",
    "            print('recall=%.3f' % (mean(v)))\n",
    "            \n",
    "        if k == \"test_f1_score\":\n",
    "            print('f1=%.3f' % (mean(v)))\n",
    "            \n",
    "    return model_accuracy\n"
   ]
  },
  {
   "cell_type": "code",
   "execution_count": null,
   "id": "d4ba67c9",
   "metadata": {},
   "outputs": [],
   "source": [
    "cv = KFold(n_splits=10, shuffle=True, random_state=1)\n",
    "models = import_models()"
   ]
  },
  {
   "cell_type": "code",
   "execution_count": null,
   "id": "f1dc421f",
   "metadata": {},
   "outputs": [],
   "source": [
    "cv_results = list()\n",
    "for model in models:\n",
    "\tcv_mean = evaluate_model(cv, model)\n",
    "\tif isnan(cv_mean):\n",
    "\t\tcontinue\n",
    "\tprint('>%s: cv=%.3f' % (type(model).__name__, cv_mean))"
   ]
  }
 ],
 "metadata": {
  "kernelspec": {
   "display_name": "Python 3 (ipykernel)",
   "language": "python",
   "name": "python3"
  },
  "language_info": {
   "codemirror_mode": {
    "name": "ipython",
    "version": 3
   },
   "file_extension": ".py",
   "mimetype": "text/x-python",
   "name": "python",
   "nbconvert_exporter": "python",
   "pygments_lexer": "ipython3",
   "version": "3.10.9"
  }
 },
 "nbformat": 4,
 "nbformat_minor": 5
}
